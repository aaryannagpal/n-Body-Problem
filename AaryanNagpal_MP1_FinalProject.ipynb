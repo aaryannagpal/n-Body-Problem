{
 "cells": [
  {
   "cell_type": "markdown",
   "id": "b888ffdf",
   "metadata": {},
   "source": [
    "# N - Body Problem"
   ]
  },
  {
   "cell_type": "markdown",
   "id": "ff3ccc4c",
   "metadata": {},
   "source": [
    "## Creating an ideal solar system"
   ]
  },
  {
   "cell_type": "markdown",
   "id": "94d3c0db",
   "metadata": {},
   "source": [
    "### Importing the necessary modules"
   ]
  },
  {
   "cell_type": "code",
   "execution_count": 1,
   "id": "c614cc24",
   "metadata": {
    "scrolled": false
   },
   "outputs": [
    {
     "data": {
      "text/html": [
       "<div id=\"glowscript\" class=\"glowscript\"></div>"
      ],
      "text/plain": [
       "<IPython.core.display.HTML object>"
      ]
     },
     "metadata": {},
     "output_type": "display_data"
    },
    {
     "data": {
      "application/javascript": [
       "if (typeof Jupyter !== \"undefined\") { window.__context = { glowscript_container: $(\"#glowscript\").removeAttr(\"id\")};}else{ element.textContent = ' ';}"
      ],
      "text/plain": [
       "<IPython.core.display.Javascript object>"
      ]
     },
     "metadata": {},
     "output_type": "display_data"
    }
   ],
   "source": [
    "from vpython import *\n",
    "import numpy as np"
   ]
  },
  {
   "cell_type": "markdown",
   "id": "dd03f4bc",
   "metadata": {},
   "source": [
    "### Defining constants"
   ]
  },
  {
   "cell_type": "markdown",
   "id": "10472827",
   "metadata": {},
   "source": [
    "#### Physical Constants"
   ]
  },
  {
   "cell_type": "code",
   "execution_count": 2,
   "id": "21506405",
   "metadata": {},
   "outputs": [],
   "source": [
    "G=6.673e-11\n",
    "myPi = np.pi\n",
    "AU = 149.6e9"
   ]
  },
  {
   "cell_type": "markdown",
   "id": "92845774",
   "metadata": {},
   "source": [
    "#### Mass Constant"
   ]
  },
  {
   "cell_type": "code",
   "execution_count": 3,
   "id": "3abb061e",
   "metadata": {},
   "outputs": [],
   "source": [
    "sun_mass = 2e30\n",
    "mercury_mass=3.285e23\n",
    "earth_mass = 6e24\n",
    "venus_mass=0.815*earth_mass\n",
    "mars_mass=0.107*earth_mass\n",
    "saturn_mass=95.16*earth_mass\n",
    "uranus_mass=14.54*earth_mass\n",
    "neptune_mass=17*earth_mass\n",
    "jupiter_mass=1.9e27"
   ]
  },
  {
   "cell_type": "markdown",
   "id": "72581eb0",
   "metadata": {},
   "source": [
    "#### Velocity Constant"
   ]
  },
  {
   "cell_type": "code",
   "execution_count": 4,
   "id": "53fb10aa",
   "metadata": {},
   "outputs": [],
   "source": [
    "earth_vel = 2* myPi * AU/(365.25 *24. *60.*60.) # average velocity = 2*Pi*R/T\n",
    "jupiter_vel=2* myPi *AU*5.2/(11.86*365.25*24.*60.*60)\n",
    "mercury_vel=1.59*earth_vel\n",
    "venus_vel=1.176*earth_vel\n",
    "mars_vel=0.808*earth_vel\n",
    "saturn_vel=0.325*earth_vel\n",
    "uranus_vel=0.228*earth_vel\n",
    "neptune_vel=0.182*earth_vel"
   ]
  },
  {
   "cell_type": "markdown",
   "id": "7730b245",
   "metadata": {},
   "source": [
    "### Creating functions according to laws of physics"
   ]
  },
  {
   "cell_type": "code",
   "execution_count": 5,
   "id": "e0fdfd17",
   "metadata": {},
   "outputs": [],
   "source": [
    "#Defining acceleration of body a in respect of b.\n",
    "def acc(a, b):\n",
    "    rel_pos = b.pos - a.pos\n",
    "    return (G*b.mass * norm(rel_pos)/rel_pos.mag2)\n",
    "\n",
    "# Accelaration of a due to all the objects b interacting with it\n",
    "def totalacc (a, objlist):\n",
    "    sum_acc = vector (0,0,0)\n",
    "    for b in objlist:\n",
    "        if (a!=b):\n",
    "            sum_acc = sum_acc + acc(a, b)\n",
    "    return sum_acc"
   ]
  },
  {
   "cell_type": "markdown",
   "id": "45d36279",
   "metadata": {},
   "source": [
    "### Creating our objects"
   ]
  },
  {
   "cell_type": "code",
   "execution_count": 6,
   "id": "45f98ab7",
   "metadata": {
    "scrolled": true
   },
   "outputs": [
    {
     "data": {
      "application/javascript": [
       "if (typeof Jupyter !== \"undefined\") {require.undef(\"nbextensions/vpython_libraries/glow.min\");}else{element.textContent = ' ';}"
      ],
      "text/plain": [
       "<IPython.core.display.Javascript object>"
      ]
     },
     "metadata": {},
     "output_type": "display_data"
    },
    {
     "data": {
      "application/javascript": [
       "if (typeof Jupyter !== \"undefined\") {require.undef(\"nbextensions/vpython_libraries/glowcomm\");}else{element.textContent = ' ';}"
      ],
      "text/plain": [
       "<IPython.core.display.Javascript object>"
      ]
     },
     "metadata": {},
     "output_type": "display_data"
    },
    {
     "data": {
      "application/javascript": [
       "if (typeof Jupyter !== \"undefined\") {require.undef(\"nbextensions/vpython_libraries/jquery-ui.custom.min\");}else{element.textContent = ' ';}"
      ],
      "text/plain": [
       "<IPython.core.display.Javascript object>"
      ]
     },
     "metadata": {},
     "output_type": "display_data"
    },
    {
     "data": {
      "application/javascript": [
       "if (typeof Jupyter !== \"undefined\") {require([\"nbextensions/vpython_libraries/glow.min\"], function(){console.log(\"GLOW LOADED\");});}else{element.textContent = ' ';}"
      ],
      "text/plain": [
       "<IPython.core.display.Javascript object>"
      ]
     },
     "metadata": {},
     "output_type": "display_data"
    },
    {
     "data": {
      "application/javascript": [
       "if (typeof Jupyter !== \"undefined\") {require([\"nbextensions/vpython_libraries/glowcomm\"], function(){console.log(\"GLOWCOMM LOADED\");});}else{element.textContent = ' ';}"
      ],
      "text/plain": [
       "<IPython.core.display.Javascript object>"
      ]
     },
     "metadata": {},
     "output_type": "display_data"
    },
    {
     "data": {
      "application/javascript": [
       "if (typeof Jupyter !== \"undefined\") {require([\"nbextensions/vpython_libraries/jquery-ui.custom.min\"], function(){console.log(\"JQUERY LOADED\");});}else{element.textContent = ' ';}"
      ],
      "text/plain": [
       "<IPython.core.display.Javascript object>"
      ]
     },
     "metadata": {},
     "output_type": "display_data"
    }
   ],
   "source": [
    "#CREATING OBJECTS\n",
    "sun = sphere(pos= vector(0,0,0), velocity = vector(0,0,0),\n",
    "             mass=sun_mass, radius = 0.1*AU, color =color.yellow)\n",
    "\n",
    "earth = sphere(pos= vector(AU, 0, 0), velocity = vector(0,earth_vel,0),\n",
    "               mass=earth_mass, radius=0.05*AU, color =color.blue)\n",
    "\n",
    "jupiter=sphere(pos=vector(5.2*AU,0,0),velocity=vector(0,jupiter_vel,0),\n",
    "              mass=jupiter_mass, radius=0.15*AU, color=color.orange)\n",
    "\n",
    "mercury = sphere(pos= vector(0.387*AU,0,0), velocity = vector(0,mercury_vel,0),\n",
    "             mass=mercury_mass, radius = 0.03*AU, color =color.orange)\n",
    "\n",
    "venus = sphere(pos= vector(0.723*AU, 0, 0), velocity = vector(0,venus_vel,0),\n",
    "               mass=venus_mass, radius=0.06*AU, color =color.yellow)\n",
    "\n",
    "mars=sphere(pos=vector(1.524*AU,0,0),velocity=vector(0,mars_vel,0),\n",
    "             mass=mars_mass, radius=0.04*AU, color=color.red)\n",
    "\n",
    "saturn = sphere(pos= vector(9.573*AU,0,0), velocity = vector(0,saturn_vel,0),\n",
    "             mass=saturn_mass, radius = 0.1*AU, color =color.white)\n",
    "\n",
    "uranus = sphere(pos= vector(19.1*AU, 0, 0), velocity = vector(0,uranus_vel,0),\n",
    "               mass=uranus_mass, radius=0.1*AU, color =color.green)\n",
    "\n",
    "neptune=sphere(pos=vector(30.1*AU,0,0),velocity=vector(0,neptune_vel,0),\n",
    "             mass=neptune_mass, radius=0.1*AU, color=color.cyan)"
   ]
  },
  {
   "cell_type": "markdown",
   "id": "db236182",
   "metadata": {},
   "source": [
    "## Adding the trajectory of a comet"
   ]
  },
  {
   "cell_type": "markdown",
   "id": "9e221b6d",
   "metadata": {},
   "source": [
    "### In our well working solar system, let us see what happens when we send an object (physically similar to a comet) inside."
   ]
  },
  {
   "cell_type": "markdown",
   "id": "a5ddc124",
   "metadata": {},
   "source": [
    "### Short Period Comets"
   ]
  },
  {
   "cell_type": "markdown",
   "id": "a8e795b6",
   "metadata": {},
   "source": [
    "#### Halley's Comet"
   ]
  },
  {
   "cell_type": "code",
   "execution_count": 7,
   "id": "f9b515db",
   "metadata": {},
   "outputs": [],
   "source": [
    "haley_mass=2.2e14\n",
    "haley_vel = 910\n",
    "haley_aph = 35*AU\n",
    "Haley=sphere(pos=vector(haley_aph,0,0),velocity=vector(0,haley_vel,0),\n",
    "             mass=haley_mass, radius=0.1*AU, color=color.magenta)"
   ]
  },
  {
   "cell_type": "markdown",
   "id": "c81d7ee1",
   "metadata": {},
   "source": [
    "#### Aaryan's Comet"
   ]
  },
  {
   "cell_type": "code",
   "execution_count": 8,
   "id": "5a94e9e2",
   "metadata": {},
   "outputs": [],
   "source": [
    "aaryan_mass=2.2e13\n",
    "aaryan_vel = 1500\n",
    "aaryan_aph = 300*AU\n",
    "y_dis = 10*AU\n",
    "Aaryan=sphere(pos=vector(aaryan_aph,y_dis,0),velocity=vector(0,aaryan_vel,0),\n",
    "             mass=aaryan_mass, radius=0.1*AU, color=color.magenta)"
   ]
  },
  {
   "cell_type": "markdown",
   "id": "809d0c2e",
   "metadata": {},
   "source": [
    "#### Calculating Eccentricity\n",
    "Aphelion = $a(1 + e)$; Perihelion = $a (1 - e)$. \n",
    "\n",
    "The sum gives major axis $2a$ and the difference is $2ae$.\n",
    "So, $e = \\frac{difference}{sum}.$\n",
    "\n",
    "Approximate Perihelion is $15 AU$ and Aphelion is $300 AU$. Therefore, Sum = $315 AU$ and Difference = $285 AU$.\n",
    "##### $e = \\frac{285}{315} = 0.9047$"
   ]
  },
  {
   "cell_type": "markdown",
   "id": "437a6a3a",
   "metadata": {},
   "source": [
    "### Long Period Comets"
   ]
  },
  {
   "cell_type": "markdown",
   "id": "e173fc52",
   "metadata": {},
   "source": [
    "#### Great Comet of "
   ]
  },
  {
   "cell_type": "code",
   "execution_count": 9,
   "id": "04685645",
   "metadata": {},
   "outputs": [],
   "source": [
    "great_mass=2.2e13\n",
    "great_vel = 100\n",
    "great_vel_near = 150000\n",
    "great_per = 0.006222*AU\n",
    "great_aph = 4000*AU\n",
    "Y_dis = 100*AU\n",
    "Great=sphere(pos=vector(great_aph,Y_dis,0),velocity=vector(0,great_vel,0),\n",
    "             mass=great_mass, radius=0.1*AU, color=color.red)"
   ]
  },
  {
   "cell_type": "markdown",
   "id": "73c1edb2",
   "metadata": {},
   "source": [
    "#### Nemesis"
   ]
  },
  {
   "cell_type": "code",
   "execution_count": 10,
   "id": "a3a8d7fa",
   "metadata": {},
   "outputs": [],
   "source": [
    "sun_mass = 2e30\n",
    "sun_vel = 400\n",
    "sun_dis = 94861.6*AU\n",
    "evil_sun = sphere(pos= vector(sun_dis,0,0), velocity = vector(0,sun_vel,0),\n",
    "             mass=sun_mass, radius = 0.1*AU, color =color.red)"
   ]
  },
  {
   "cell_type": "markdown",
   "id": "c138ddea",
   "metadata": {},
   "source": [
    "### Setting our animation"
   ]
  },
  {
   "cell_type": "code",
   "execution_count": 11,
   "id": "8423ab90",
   "metadata": {},
   "outputs": [],
   "source": [
    "bodies = [sun, earth, mercury, jupiter, neptune, uranus, mars, venus, saturn]#evil_sun,Aaryan, Great]\n",
    "\n",
    "for b in bodies:\n",
    "    b.acc = vector(0,0,0)\n",
    "    b.track=curve (color = b.color)\n",
    "    b.emissive=True\n",
    "    \n",
    "    \n",
    "    # set total momentum of system to zero (centre of mass frame) \n",
    "sum=vector(0,0,0)\n",
    "for b in bodies:\n",
    "    if (b!=sun):\n",
    "        sum=sum+b.mass*b.velocity\n",
    "\n",
    "sun.velocity=-sum/sun.mass\n",
    "\n",
    "\n",
    "# dt corresponds to 180000 SECONDS here\n",
    "dt=30*60*100\n",
    "\n",
    "#LEAP-FROG\n",
    "\n",
    "for b in bodies:\n",
    "    b.velocity = b.velocity + totalacc(b, bodies)*dt/2.0 #initalizing it at dt/2"
   ]
  },
  {
   "cell_type": "markdown",
   "id": "9de726f2",
   "metadata": {},
   "source": [
    "### Animation"
   ]
  },
  {
   "cell_type": "code",
   "execution_count": 12,
   "id": "aaa3b241",
   "metadata": {
    "scrolled": false
   },
   "outputs": [
    {
     "data": {
      "text/html": [
       "<div id=\"glowscript\" class=\"glowscript\"></div>"
      ],
      "text/plain": [
       "<IPython.core.display.HTML object>"
      ]
     },
     "metadata": {},
     "output_type": "display_data"
    },
    {
     "data": {
      "application/javascript": [
       "if (typeof Jupyter !== \"undefined\") { window.__context = { glowscript_container: $(\"#glowscript\").removeAttr(\"id\")};}else{ element.textContent = ' ';}"
      ],
      "text/plain": [
       "<IPython.core.display.Javascript object>"
      ]
     },
     "metadata": {},
     "output_type": "display_data"
    }
   ],
   "source": [
    "scene = canvas() \n",
    "scene.background = color.white\n",
    "scene.autoscale = 0\n",
    "scene.range = 10*AU"
   ]
  },
  {
   "cell_type": "markdown",
   "id": "aeb1c452",
   "metadata": {},
   "source": [
    "### Beginning our simulation"
   ]
  },
  {
   "cell_type": "code",
   "execution_count": null,
   "id": "84edd945",
   "metadata": {},
   "outputs": [],
   "source": [
    "while True:\n",
    "    rate(50)  #not more than 100 time steps in a second\n",
    "    for b in bodies:\n",
    "        #update the positions\n",
    "        b.pos = b.pos + b.velocity*dt\n",
    "        b.track.append(pos=b.pos)\n",
    "\n",
    "        #update the velocities\n",
    "        b.velocity = b.velocity + totalacc(b, bodies)*dt\n",
    "\n",
    "    scene.center = vector(0,0,0) #view centered on the origin of CM coord system"
   ]
  }
 ],
 "metadata": {
  "kernelspec": {
   "display_name": "Python 3 (ipykernel)",
   "language": "python",
   "name": "python3"
  },
  "language_info": {
   "codemirror_mode": {
    "name": "ipython",
    "version": 3
   },
   "file_extension": ".py",
   "mimetype": "text/x-python",
   "name": "python",
   "nbconvert_exporter": "python",
   "pygments_lexer": "ipython3",
   "version": "3.9.7"
  }
 },
 "nbformat": 4,
 "nbformat_minor": 5
}
